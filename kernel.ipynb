{
  "cells": [
    {
      "metadata": {
        "_uuid": "8f2839f25d086af736a60e9eeb907d3b93b6e0e5",
        "_cell_guid": "b1076dfc-b9ad-4769-8c92-a6c4dae69d19",
        "trusted": true,
        "scrolled": false
      },
      "cell_type": "code",
      "source": "# This Python 3 environment comes with many helpful analytics libraries installed\n# It is defined by the kaggle/python docker image: https://github.com/kaggle/docker-python\n# For example, here's several helpful packages to load in \n\nimport seaborn as sns\nimport numpy as np # linear algebra\nimport pandas as pd # data processing, CSV file I/O (e.g. pd.read_csv)\n\n# Input data files are available in the \"../input/\" directory.\n# For example, running this (by clicking run or pressing Shift+Enter) will list the files in the input directory\n\nimport os\nprint(os.listdir(\"../input\"))\n\n# Any results you write to the current directory are saved as output.\nmulti = pd.read_csv('../input/multipleChoiceResponses.csv')\n\nmulti.head()",
      "execution_count": null,
      "outputs": []
    },
    {
      "metadata": {
        "_uuid": "fbeb6be742ae4e72f3a3f8b27e784b6483ad9f34"
      },
      "cell_type": "markdown",
      "source": "Questions of interest:\n\nUndergraduate major and how it relates to salary?\n\nHow skills in ML and programming affect salary?\n\nHow much does understanding ML outputs affect success?"
    },
    {
      "metadata": {
        "trusted": true,
        "_uuid": "3052468a3223c1d0cff3f261a424fad44e9c1135"
      },
      "cell_type": "code",
      "source": "#Remove the first row which contains the question text\nmulti = multi.drop(multi.index[0])",
      "execution_count": null,
      "outputs": []
    },
    {
      "metadata": {
        "trusted": true,
        "_uuid": "81b8d0862e76ee3bc59700e671eada112e635e46"
      },
      "cell_type": "code",
      "source": "multi.shape\n",
      "execution_count": null,
      "outputs": []
    },
    {
      "metadata": {
        "trusted": true,
        "_uuid": "6ed92b7bc755137899baf4247c1fd120e55161c5"
      },
      "cell_type": "code",
      "source": "#Salaries in the CSV are listed as ranges. For calcuation I took the mid point of each range.\ndef salary_convert(salary):\n    avg = salary\n    if isinstance(salary, str):\n        if  '-' in salary:\n            range = salary.split('-')\n            avg = (int(range[0]) + int(range[1].split(',')[0]))*500\n        \n        else:\n            avg = np.NaN\n    return avg\nmulti['Salary'] = multi.Q9.apply(salary_convert)",
      "execution_count": null,
      "outputs": []
    },
    {
      "metadata": {
        "trusted": true,
        "_uuid": "e22f045a181ebe4a47bb0e6e7bb7a713d74db176"
      },
      "cell_type": "code",
      "source": "major_salary = multi.groupby(['Q5'], as_index = False).Salary.mean()\nmajor_salary",
      "execution_count": null,
      "outputs": []
    },
    {
      "metadata": {
        "trusted": true,
        "_uuid": "dfdcbb3bd5c4ddbdc70ce230769e1a4e00cf999d"
      },
      "cell_type": "code",
      "source": "#ms_graph = convert(major_salary, 'Major')\nms = sns.barplot(x = 'Q5', y= 'Salary' , data = major_salary, color = 'blue')\nms.set_xticklabels(major_salary['Q5'], rotation=90)",
      "execution_count": null,
      "outputs": []
    },
    {
      "metadata": {
        "_uuid": "f137b41ca3f9d77f6c83aede86483227876ac436"
      },
      "cell_type": "markdown",
      "source": "These are certainly surprising results.  CS/IT majors have the two lowest average salaries while fine arts/performing arts majors have some of the highest. Let's try to find some other factors that might be skewing our results."
    },
    {
      "metadata": {
        "trusted": true,
        "_uuid": "f1681b9475125da95d6b9db8a2722f3a0428a80f"
      },
      "cell_type": "code",
      "source": "multi.groupby(['Q5']).Salary.value_counts()\n",
      "execution_count": null,
      "outputs": []
    },
    {
      "metadata": {
        "_uuid": "fb422a1405f9772f9609cdd208ad9e1dc85f57e4"
      },
      "cell_type": "markdown",
      "source": "Here we see a large number of 5000's in the computer science majors. These are significant not only because the number is so small but because it is actually the range 0-10,000 meaning the people here could be unpaid such as students."
    },
    {
      "metadata": {
        "trusted": true,
        "_uuid": "1347622c1cfeb58cd540f8f2bc7462dbdb1ab640"
      },
      "cell_type": "code",
      "source": "#Removing rows where the answer to question 6 or 7 indicates they are a student\nmask = multi['Q6'] == 'Student'\nmask2 = multi['Q7'] == 'I am a student'\nmulti_no_students = multi[~mask]\nmulti_no_students_2 = multi_no_students[~mask2]",
      "execution_count": null,
      "outputs": []
    },
    {
      "metadata": {
        "trusted": true,
        "_uuid": "cb244e255f598a050bba25c8c078e45c965b2e8b"
      },
      "cell_type": "code",
      "source": "multi_no_students_2.groupby(['Q5']).mean()['Salary']",
      "execution_count": null,
      "outputs": []
    },
    {
      "metadata": {
        "_uuid": "4bd26e5e375105704c8c4a8e4d79821529b56a94"
      },
      "cell_type": "markdown",
      "source": "This is better but still not close to what we would expect. Let's try to find something else affecting these results."
    },
    {
      "metadata": {
        "trusted": true,
        "_uuid": "7f52abe33cc9ea83637f58516646f58c498208c0"
      },
      "cell_type": "code",
      "source": "multi.Q5.value_counts()",
      "execution_count": null,
      "outputs": []
    },
    {
      "metadata": {
        "_uuid": "451981d614904fa37608ac4ff58c2ac3ba3dd547"
      },
      "cell_type": "markdown",
      "source": "CS majors are by far the most prevalent. Let's see where they are from."
    },
    {
      "metadata": {
        "trusted": true,
        "scrolled": false,
        "_uuid": "53bcea3a047b0e61cd1e7a9790c8d6de775fd40b"
      },
      "cell_type": "code",
      "source": "multi[multi['Q5'] == 'Computer science (software engineering, etc.)'].Q3.value_counts()\n",
      "execution_count": null,
      "outputs": []
    },
    {
      "metadata": {
        "_uuid": "e7eaf9dcad6694328002556cd5eea8d20d3286f1"
      },
      "cell_type": "markdown",
      "source": "From previous projects I know that location can have a profound impact on wages. Let's see if we can find a way to seperate out low-wage countries from high-wage ones."
    },
    {
      "metadata": {
        "trusted": true,
        "_uuid": "4229179d9a4b6ee9f771c8668116bd4aaa9f3e56"
      },
      "cell_type": "code",
      "source": "multi_no_students_2.groupby(['Q3']).mean()['Salary']",
      "execution_count": null,
      "outputs": []
    },
    {
      "metadata": {
        "trusted": true,
        "_uuid": "3bfadf38238a375f162f62a5903987dfb0b2f564"
      },
      "cell_type": "code",
      "source": "country_income = pd.DataFrame(multi_no_students_2.groupby(['Q3']).mean()['Salary'])\ncountry_income['Countries'] = country_income.index\nsns.jointplot(x = 'Countries', y=\"Salary\", data=country_income)",
      "execution_count": null,
      "outputs": []
    },
    {
      "metadata": {
        "_uuid": "1bd5ae813c0dd27b394131f7b30719851f2775d9"
      },
      "cell_type": "markdown",
      "source": "40,000 looks like a good cutoff to me"
    },
    {
      "metadata": {
        "trusted": true,
        "scrolled": false,
        "_uuid": "7c71547befad2d041f1b88caa826b8c35db18795"
      },
      "cell_type": "code",
      "source": "income_by_country = multi_no_students_2.groupby(['Q3']).mean()['Salary']\nincome_by_country\nmns = multi_no_students_2\n\nhigh_income = [k for k, v in income_by_country.items() if v > 40000]\n\ndef income_level(country_name):\n    if country_name in high_income:\n        return 1\n    else:\n        return 0\n    \n\n#mns['Q3'].apply(income_level)[:5]\nmns['income_region'] = mns[\"Q3\"].apply(income_level)\n\n\nmulti_high = mns[mns['income_region'] == 1]\nmulti_low = mns[mns['income_region'] == 0]\n",
      "execution_count": null,
      "outputs": []
    },
    {
      "metadata": {
        "trusted": true,
        "_uuid": "28242591a6e1bc5066760588b69230639b6f7bb1"
      },
      "cell_type": "code",
      "source": "major_salary_high = multi_high.groupby(['Q5'], as_index = False).Salary.mean()\nmajor_salary_high",
      "execution_count": null,
      "outputs": []
    },
    {
      "metadata": {
        "trusted": true,
        "_uuid": "838a49d0f3b0416e591f38df41ed522871abe8e0"
      },
      "cell_type": "code",
      "source": "msh = sns.barplot(x = 'Q5', y= 'Salary' , data = major_salary_high, color = 'blue')\nmsh.set_xticklabels(major_salary_high['Q5'], rotation=90)",
      "execution_count": null,
      "outputs": []
    },
    {
      "metadata": {
        "trusted": true,
        "_uuid": "110e03613b4cca92a59b2b562b457779d7094325"
      },
      "cell_type": "code",
      "source": "multi_low.groupby(['Q5']).mean()['Salary']",
      "execution_count": null,
      "outputs": []
    },
    {
      "metadata": {
        "trusted": true,
        "_uuid": "d2537c525addf9863e47eede330f559a1eda756f"
      },
      "cell_type": "code",
      "source": "multi.groupby(['Q5']).Q4.value_counts()",
      "execution_count": null,
      "outputs": []
    },
    {
      "metadata": {
        "_uuid": "5b1cff5c6d590e353afe09774d97ade2ffaf88ec"
      },
      "cell_type": "markdown",
      "source": "So a lot of folks in these majors have Masters degrees and since we only have undergraduate majors available we're limited in what we can say.  Another factor could be job role  but we are going to consider this for the entire dataset next."
    },
    {
      "metadata": {
        "_uuid": "45faf07a8b078a7c8171ee56aad3b67a177fa9ee"
      },
      "cell_type": "markdown",
      "source": "First the relationship of coding to salary."
    },
    {
      "metadata": {
        "trusted": true,
        "_uuid": "c43e9edb1e45c2163a254eceb4748f9e7ecc65ec"
      },
      "cell_type": "code",
      "source": "coding = multi.groupby(['Q24'], as_index = False).Salary.mean()\nmyorder = [8,9,7,0,3,6,1,2,4]\n#Need to reorder because default order was nonsensical. We'll need to do the same on ML question\nordered = coding.reindex(myorder, axis = 0)\nordered",
      "execution_count": null,
      "outputs": []
    },
    {
      "metadata": {
        "trusted": true,
        "_uuid": "84e1c63d35d5a84fd4d3e83a7958837f464bdb37"
      },
      "cell_type": "code",
      "source": "#code_graph = convert(coding, 'Coding Experience')\n#code_graph\ncode = sns.barplot(x = 'Salary', y= 'Q24' , data = ordered, color = 'blue')\n#code.set_xticklabels(ordered['Q24'], rotation=90)",
      "execution_count": null,
      "outputs": []
    },
    {
      "metadata": {
        "_uuid": "27445760977d62ce87a43a393985972f53c5a7b9"
      },
      "cell_type": "markdown",
      "source": "We see that over time coding pays off but early on programming doesn't necessarily produce the highest salary early in career. Let's do the same comparison for Machine Learning."
    },
    {
      "metadata": {
        "trusted": true,
        "_uuid": "a454c0e7df01b6a2bc9fbb86c3ed482b984533ff"
      },
      "cell_type": "code",
      "source": "multi.groupby(['Q25'], as_index = False).Salary.mean()\nml_order = [8,9,7,0,2,4,5,6,1,3]",
      "execution_count": null,
      "outputs": []
    },
    {
      "metadata": {
        "trusted": true,
        "_uuid": "73ae6585b4bed6f1f4126ca73ae30c9827f36b85"
      },
      "cell_type": "code",
      "source": "ml_graph = multi.groupby(['Q25'], as_index = False).Salary.mean()\nml_ordered = ml_graph.reindex(ml_order)\nml = sns.barplot(x = 'Salary', y= 'Q25' , data = ml_ordered, color = 'blue')\n",
      "execution_count": null,
      "outputs": []
    },
    {
      "metadata": {
        "_uuid": "d849247a66e861a84f3b16f441a1aa6dc7666f31"
      },
      "cell_type": "markdown",
      "source": "Much more immediate results."
    },
    {
      "metadata": {
        "_uuid": "cda4610bb73432a053d8bcccf611b28d179ee5bf"
      },
      "cell_type": "markdown",
      "source": "Finally our question about whether being able to interpret data influences success."
    },
    {
      "metadata": {
        "trusted": true,
        "_uuid": "d8ba5f3309ad0510181e14dcb0deefcecebd1816"
      },
      "cell_type": "code",
      "source": "multi.groupby(['Q48']).Salary.mean()\nml_graph = multi.groupby(['Q48'], as_index = False).Salary.mean()\nml = sns.barplot(x = 'Q48', y= 'Salary' , data = ml_graph, color = 'blue')\nml.set_xticklabels(ml_graph['Q48'], rotation=90)",
      "execution_count": null,
      "outputs": []
    },
    {
      "metadata": {
        "_uuid": "5224d695cfcbabf350c4f4c3c44fc1c4edfab697"
      },
      "cell_type": "markdown",
      "source": "This is a fascinating graph because it seems to suggest a pattern but what exactly that pattern is is uncertain. My best theory is that Yes, most ML models are \"black boxes\" is a mixture of people working with less inpretable models(and making higher salaries) and people who are less knowledgable (and making lower salaries).  We'll need to define a couple of functions to help us explore this data."
    },
    {
      "metadata": {
        "trusted": true,
        "_uuid": "5c235c1f411dc137032a5e7b7da704d4e8ac2a84"
      },
      "cell_type": "code",
      "source": "def super_groupby (df,comparison,base_text, part_max):\n    '''This function is designed to find value counts from multiple columns and group them by the responses in a single column.\n        The design is built specifically around the column name formats used in the multipleChoiceResponses.csv file. It iterates\n        the mulitple column comparing them to the single column and concatenates the results\"\"\n    \n        Keyword Arguements:\n        df = A DataFrame containing the relevant data\n        comparison = A single column\n        base_text = The basic format for the columns to be iterated (should include a {} in place of a part number)\n        part_max = The highest number for np.arange (should be one more than the highest numbered part # in the columns or,\n                more simply, one more than the number of columns)\n        '''\n    parts = np.arange(1,part_max)\n\n    column_list = []\n    for part in parts:\n        column_list.append(base_text.format(part))\n    count_list = []\n    for column in column_list:\n        df = df.rename(columns={column: 'current'})\n        count = df.groupby([comparison]).current.value_counts()\n        df = df.rename(columns={'current': column})\n        count_list.append(count)\n    concatenated = pd.concat(count_list, sort =False)\n    return concatenated.sort_index()\n\n",
      "execution_count": null,
      "outputs": []
    },
    {
      "metadata": {
        "trusted": true,
        "_uuid": "a5f7e73bc7a9026350be8af8ad706e2559cfdbb2"
      },
      "cell_type": "code",
      "source": "def plot_supergroup(supergroup, column = 'current'):\n    '''A function for plotting value count groupby's primarily those generated by super_groupby\n    \n    Keyword Arguements:\n    supergroup = A Pandas Series generated by either groupby or super_groupby\n    column = The name of the column generated by groupby or super_groupby (which is named \n            'current' if generated by super_groupby thus that is the default)\n    '''\n    df = pd.DataFrame(supergroup)\n    df = df.rename(columns={column:'Count'})\n    df.reset_index(inplace=True)\n    ax2= sns.barplot(y = 'Q48', x = 'Count', hue = column, data=df)\n    ax2.legend(loc=4, bbox_to_anchor=(0.5, 1.0))",
      "execution_count": null,
      "outputs": []
    },
    {
      "metadata": {
        "trusted": true,
        "_uuid": "fd27962bd89477b5918a9828d9d3918ccc20f029"
      },
      "cell_type": "code",
      "source": "frameworks = super_groupby(multi,'Q48','Q19_Part_{}',20)\nplot_supergroup(frameworks)",
      "execution_count": null,
      "outputs": []
    },
    {
      "metadata": {
        "trusted": true,
        "_uuid": "91824faace70a4ac2ef147ee811a1778ea5d03f4",
        "scrolled": true
      },
      "cell_type": "code",
      "source": "analysis_tools = multi.groupby(['Q48']).Q12_MULTIPLE_CHOICE.value_counts()\nplot_supergroup(analysis_tools,'Q12_MULTIPLE_CHOICE')",
      "execution_count": null,
      "outputs": []
    },
    {
      "metadata": {
        "trusted": true,
        "_uuid": "c3c4648f39d4ee64fc29787aa52daf69a97a9741"
      },
      "cell_type": "code",
      "source": "role = super_groupby(multi,'Q48','Q11_Part_{}',7)\nplot_supergroup(role)\n#df_role = pd.DataFrame(role)\n#df_role = df_role.rename(columns={'current':'Count'})\n#df_role.reset_index(inplace=True)\n#df_role\n",
      "execution_count": null,
      "outputs": []
    },
    {
      "metadata": {
        "trusted": true,
        "_uuid": "e498b1325fad249e04394f5596d68982667b459a"
      },
      "cell_type": "code",
      "source": "dtype = super_groupby(multi,'Q48','Q31_Part_{}',13)\nplot_supergroup(dtype)",
      "execution_count": null,
      "outputs": []
    },
    {
      "metadata": {
        "_uuid": "290f3d370d7cf3a7886ef5a2b30e7b68f87359a2"
      },
      "cell_type": "markdown",
      "source": "There doesn't seem like much to draw here. Perhaps we just don't have enough to make a solid conclusion. I'll discuss this more in the blog."
    }
  ],
  "metadata": {
    "kernelspec": {
      "display_name": "Python 3",
      "language": "python",
      "name": "python3"
    },
    "language_info": {
      "name": "python",
      "version": "3.6.6",
      "mimetype": "text/x-python",
      "codemirror_mode": {
        "name": "ipython",
        "version": 3
      },
      "pygments_lexer": "ipython3",
      "nbconvert_exporter": "python",
      "file_extension": ".py"
    }
  },
  "nbformat": 4,
  "nbformat_minor": 1
}